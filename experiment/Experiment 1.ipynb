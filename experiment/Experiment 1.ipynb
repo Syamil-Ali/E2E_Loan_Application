{
 "cells": [
  {
   "cell_type": "code",
   "execution_count": 2,
   "id": "66a7a583",
   "metadata": {},
   "outputs": [],
   "source": [
    "# import related to mlflow and dagshub\n",
    "import mlflow\n",
    "import mlflow_exp as mle\n",
    "import dagshub\n",
    "from mlflow import MlflowClient\n",
    "\n",
    "# import preprocessing file\n",
    "from steps import data_ingestion as di\n",
    "from steps import data_transformation as dt\n",
    "from steps import model_training as mt\n",
    "\n",
    "import os"
   ]
  },
  {
   "cell_type": "code",
   "execution_count": 3,
   "id": "29755f7a",
   "metadata": {},
   "outputs": [],
   "source": [
    "#DAGSHUB_TOKEN = dagshub.auth.get_token()\n"
   ]
  },
  {
   "cell_type": "code",
   "execution_count": 4,
   "id": "f989dd2e",
   "metadata": {},
   "outputs": [],
   "source": [
    "# connection config to dagshub\n",
    "\n",
    "MLFLOW_TRACKING_URI='https://dagshub.com/Syamil-Ali/E2E_Loan_Application.mlflow'\n",
    "MLFLOW_TRACKING_USERNAME='Syamil-Ali'\n",
    "MLFLOW_TRACKING_PASSWORD='2e6b27e2093c83eacbf6777913b6d087592d1710'"
   ]
  },
  {
   "cell_type": "code",
   "execution_count": 6,
   "id": "43cd766a",
   "metadata": {},
   "outputs": [],
   "source": [
    "# put them into os.environment\n",
    "\n",
    "# It's recommended to define this within the code, because it's project specific (but this works too)\n",
    "os.environ['MLFLOW_TRACKING_URI']=MLFLOW_TRACKING_URI\n",
    "\n",
    "# Recommended to define as environment variables\n",
    "os.environ['MLFLOW_TRACKING_USERNAME'] = MLFLOW_TRACKING_USERNAME\n",
    "os.environ['MLFLOW_TRACKING_PASSWORD'] = MLFLOW_TRACKING_PASSWORD"
   ]
  },
  {
   "cell_type": "code",
   "execution_count": 10,
   "id": "5eb828d9",
   "metadata": {},
   "outputs": [],
   "source": [
    "# create a client to access the MLflow tracking server\n",
    "client = mlflow.MlflowClient(tracking_uri=MLFLOW_TRACKING_URI)"
   ]
  },
  {
   "cell_type": "code",
   "execution_count": null,
   "id": "9b38e302",
   "metadata": {},
   "outputs": [],
   "source": [
    "p"
   ]
  },
  {
   "cell_type": "code",
   "execution_count": null,
   "id": "97212883",
   "metadata": {},
   "outputs": [],
   "source": [
    "file_path = ''"
   ]
  }
 ],
 "metadata": {
  "kernelspec": {
   "display_name": "mlflowtest",
   "language": "python",
   "name": "mlflowtest"
  },
  "language_info": {
   "codemirror_mode": {
    "name": "ipython",
    "version": 3
   },
   "file_extension": ".py",
   "mimetype": "text/x-python",
   "name": "python",
   "nbconvert_exporter": "python",
   "pygments_lexer": "ipython3",
   "version": "3.8.18"
  }
 },
 "nbformat": 4,
 "nbformat_minor": 5
}
