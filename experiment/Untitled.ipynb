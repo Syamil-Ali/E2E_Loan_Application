{
 "cells": [
  {
   "cell_type": "code",
   "execution_count": 1,
   "id": "40dc19c4",
   "metadata": {},
   "outputs": [
    {
     "ename": "ImportError",
     "evalue": "cannot import name 'data_transformations' from 'steps' (c:\\users\\user\\desktop\\python project\\mlflow\\real loan application\\steps\\__init__.py)",
     "output_type": "error",
     "traceback": [
      "\u001b[1;31m---------------------------------------------------------------------------\u001b[0m",
      "\u001b[1;31mImportError\u001b[0m                               Traceback (most recent call last)",
      "Cell \u001b[1;32mIn[1], line 1\u001b[0m\n\u001b[1;32m----> 1\u001b[0m \u001b[38;5;28;01mfrom\u001b[39;00m \u001b[38;5;21;01msteps\u001b[39;00m \u001b[38;5;28;01mimport\u001b[39;00m data_transformations \u001b[38;5;28;01mas\u001b[39;00m dt\n",
      "\u001b[1;31mImportError\u001b[0m: cannot import name 'data_transformations' from 'steps' (c:\\users\\user\\desktop\\python project\\mlflow\\real loan application\\steps\\__init__.py)"
     ]
    }
   ],
   "source": [
    "from steps import data_transformations as dt\n"
   ]
  },
  {
   "cell_type": "code",
   "execution_count": null,
   "id": "8c12fca7",
   "metadata": {},
   "outputs": [],
   "source": []
  }
 ],
 "metadata": {
  "kernelspec": {
   "display_name": "mlflowtest",
   "language": "python",
   "name": "mlflowtest"
  },
  "language_info": {
   "codemirror_mode": {
    "name": "ipython",
    "version": 3
   },
   "file_extension": ".py",
   "mimetype": "text/x-python",
   "name": "python",
   "nbconvert_exporter": "python",
   "pygments_lexer": "ipython3",
   "version": "3.8.18"
  }
 },
 "nbformat": 4,
 "nbformat_minor": 5
}
