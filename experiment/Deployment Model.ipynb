{
 "cells": [
  {
   "cell_type": "code",
   "execution_count": 1,
   "id": "4f48ad6a",
   "metadata": {},
   "outputs": [],
   "source": [
    "import mlflow\n",
    "from mlflow import MlflowClient\n",
    "import pprint\n",
    "import os\n",
    "import shutil\n",
    "import pickle\n",
    "import sys\n",
    "sys.path.remove('c:\\\\users\\\\user\\\\desktop\\\\python project\\\\mlflow\\\\real loan application')"
   ]
  },
  {
   "cell_type": "code",
   "execution_count": 2,
   "id": "c90d337c",
   "metadata": {},
   "outputs": [
    {
     "name": "stdout",
     "output_type": "stream",
     "text": [
      "2.12.1\n"
     ]
    }
   ],
   "source": [
    "print(mlflow.__version__)"
   ]
  },
  {
   "cell_type": "code",
   "execution_count": 2,
   "id": "a311d1ba",
   "metadata": {},
   "outputs": [],
   "source": [
    "# set the tracking uri\n",
    "\n",
    "mlflow.set_tracking_uri(\"http://127.0.0.1:5000\")\n",
    "client = MlflowClient()"
   ]
  },
  {
   "cell_type": "code",
   "execution_count": 3,
   "id": "44891a3b",
   "metadata": {},
   "outputs": [
    {
     "name": "stdout",
     "output_type": "stream",
     "text": [
      "AdaBoost_best_params\n"
     ]
    },
    {
     "ename": "NameError",
     "evalue": "name 'version_counter' is not defined",
     "output_type": "error",
     "traceback": [
      "\u001b[1;31m---------------------------------------------------------------------------\u001b[0m",
      "\u001b[1;31mNameError\u001b[0m                                 Traceback (most recent call last)",
      "Cell \u001b[1;32mIn[3], line 5\u001b[0m\n\u001b[0;32m      3\u001b[0m \u001b[38;5;28mprint\u001b[39m(model\u001b[38;5;241m.\u001b[39mname)\n\u001b[0;32m      4\u001b[0m \u001b[38;5;66;03m# get model version\u001b[39;00m\n\u001b[1;32m----> 5\u001b[0m \u001b[43mversion_counter\u001b[49m \n\u001b[0;32m      7\u001b[0m \u001b[38;5;28;01mfor\u001b[39;00m model_version \u001b[38;5;129;01min\u001b[39;00m model\u001b[38;5;241m.\u001b[39mlatest_versions:\n\u001b[0;32m      8\u001b[0m     \u001b[38;5;28;01mif\u001b[39;00m model_version\u001b[38;5;241m.\u001b[39mcurrent_stage \u001b[38;5;241m==\u001b[39m \u001b[38;5;124m'\u001b[39m\u001b[38;5;124mProduction\u001b[39m\u001b[38;5;124m'\u001b[39m:\n",
      "\u001b[1;31mNameError\u001b[0m: name 'version_counter' is not defined"
     ]
    }
   ],
   "source": [
    "for model in client.search_registered_models(filter_string=\"name LIKE '%'\"):\n",
    "    #print(dir(model))\n",
    "    print(model.name)\n",
    "    # get model version\n",
    "    version_counter \n",
    "    \n",
    "    for model_version in model.latest_versions:\n",
    "        if model_version.current_stage == 'Production':\n",
    "            deployment_model = model_version\n",
    "        print(f\"name={model_version.name}; run_id={model_version.run_id}; version={model_version.version}, stage={model_version.aliases}\")"
   ]
  },
  {
   "cell_type": "code",
   "execution_count": 26,
   "id": "ed195068",
   "metadata": {},
   "outputs": [
    {
     "ename": "NameError",
     "evalue": "name 'deployment_model' is not defined",
     "output_type": "error",
     "traceback": [
      "\u001b[1;31m---------------------------------------------------------------------------\u001b[0m",
      "\u001b[1;31mNameError\u001b[0m                                 Traceback (most recent call last)",
      "Cell \u001b[1;32mIn[26], line 1\u001b[0m\n\u001b[1;32m----> 1\u001b[0m \u001b[43mdeployment_model\u001b[49m\n",
      "\u001b[1;31mNameError\u001b[0m: name 'deployment_model' is not defined"
     ]
    }
   ],
   "source": [
    "deployment_model"
   ]
  },
  {
   "cell_type": "code",
   "execution_count": 16,
   "id": "6e729926",
   "metadata": {},
   "outputs": [],
   "source": [
    "model_name = \"Logistic_Regression_best_params\"\n",
    "alias = \"champion\"\n",
    "\n",
    "champion_version = mlflow.pyfunc.load_model(f\"models:/{model_name}@{alias}\")"
   ]
  },
  {
   "cell_type": "code",
   "execution_count": null,
   "id": "5327bc6d",
   "metadata": {},
   "outputs": [],
   "source": []
  },
  {
   "cell_type": "code",
   "execution_count": null,
   "id": "fe6aa691",
   "metadata": {},
   "outputs": [],
   "source": []
  },
  {
   "cell_type": "code",
   "execution_count": 14,
   "id": "a32a2b92",
   "metadata": {},
   "outputs": [],
   "source": [
    "model = mlflow.pyfunc.load_model(\"runs:/5d00a6ef26bb4ec7abc87d5dccd5b5f3/loan_application_model/base_experiment\")\n",
    "#model.serve(port=5000)"
   ]
  },
  {
   "cell_type": "code",
   "execution_count": null,
   "id": "2703fd21",
   "metadata": {},
   "outputs": [],
   "source": [
    "champion_version = mlflow.pyfunc.load_model(f\"models:/{model_name}@{alias}\")"
   ]
  },
  {
   "cell_type": "code",
   "execution_count": null,
   "id": "5784cdfd",
   "metadata": {},
   "outputs": [],
   "source": []
  },
  {
   "cell_type": "code",
   "execution_count": 6,
   "id": "8fa81a85",
   "metadata": {},
   "outputs": [
    {
     "name": "stdout",
     "output_type": "stream",
     "text": [
      "Logistic_Regression_best_params\n"
     ]
    }
   ],
   "source": [
    "# for now use this\n",
    "for model in client.search_registered_models():\n",
    "    if 'champion' in model.aliases.keys():\n",
    "        # get model name and version\n",
    "        model_name = model.name\n",
    "        print(model_name)\n",
    "        version = model.aliases['champion']\n",
    "        deployment_model = mlflow.pyfunc.load_model(f\"models:/{model_name}@challenger\")"
   ]
  },
  {
   "cell_type": "code",
   "execution_count": 34,
   "id": "58314acb",
   "metadata": {},
   "outputs": [],
   "source": [
    "if 'champion' in test.keys():\n",
    "    print(1)"
   ]
  },
  {
   "cell_type": "code",
   "execution_count": 38,
   "id": "e17dfa19",
   "metadata": {},
   "outputs": [
    {
     "data": {
      "text/plain": [
       "mlflow.pyfunc.loaded_model:\n",
       "  artifact_path: loan_application_model/base_experiment\n",
       "  flavor: mlflow.sklearn\n",
       "  run_id: 5b1e9aeb178d407c81d6d848cf2c5c1d"
      ]
     },
     "execution_count": 38,
     "metadata": {},
     "output_type": "execute_result"
    }
   ],
   "source": [
    "deployment_model"
   ]
  },
  {
   "cell_type": "code",
   "execution_count": 40,
   "id": "3acaaadf",
   "metadata": {},
   "outputs": [
    {
     "data": {
      "text/plain": [
       "mlflow.pyfunc.loaded_model:\n",
       "  artifact_path: loan_application_model/base_experiment\n",
       "  flavor: mlflow.sklearn\n",
       "  run_id: 5d00a6ef26bb4ec7abc87d5dccd5b5f3"
      ]
     },
     "execution_count": 40,
     "metadata": {},
     "output_type": "execute_result"
    }
   ],
   "source": [
    "deployment_model"
   ]
  },
  {
   "cell_type": "code",
   "execution_count": null,
   "id": "93241013",
   "metadata": {},
   "outputs": [],
   "source": []
  },
  {
   "cell_type": "markdown",
   "id": "fc2170b3",
   "metadata": {},
   "source": [
    "# Deployment Purpose"
   ]
  },
  {
   "cell_type": "code",
   "execution_count": 4,
   "id": "4b2e07a6",
   "metadata": {},
   "outputs": [
    {
     "data": {
      "text/plain": [
       "'C:\\\\Users\\\\USER\\\\Desktop\\\\MLOPS NEW\\\\E2E Loan Application Classification\\\\E2E_Loan_Application\\\\experiment'"
      ]
     },
     "execution_count": 4,
     "metadata": {},
     "output_type": "execute_result"
    }
   ],
   "source": [
    "os.getcwd()"
   ]
  },
  {
   "cell_type": "code",
   "execution_count": 15,
   "id": "270ce8fe",
   "metadata": {},
   "outputs": [
    {
     "name": "stdout",
     "output_type": "stream",
     "text": [
      "3\n",
      "Logistic_Regression_best_params\n"
     ]
    }
   ],
   "source": [
    "# automically search for champion model\n",
    "\n",
    "for model in client.search_registered_models():\n",
    "    if 'champion' in model.aliases.keys():\n",
    "        # get model name and version\n",
    "        model_name = model.name\n",
    "        version = model.aliases['champion']\n",
    "        print(version)\n",
    "        print(model_name)\n",
    "        deployment_model = mlflow.pyfunc.load_model(f\"models:/{model_name}@champion\")\n",
    "        \n",
    "        \n",
    "# save model to production model\n",
    "filename = '../production/PModel/loan_application_model.sav'\n",
    "pickle.dump(deployment_model, open(filename, 'wb'))"
   ]
  },
  {
   "cell_type": "code",
   "execution_count": 7,
   "id": "a5fbe0e9",
   "metadata": {},
   "outputs": [
    {
     "name": "stdout",
     "output_type": "stream",
     "text": [
      "Logistic_Regression_best_params\n"
     ]
    },
    {
     "data": {
      "text/plain": [
       "mlflow.pyfunc.loaded_model:\n",
       "  artifact_path: loan_application_model/base_experiment\n",
       "  flavor: mlflow.sklearn\n",
       "  run_id: 61367aad164e49d1a7e7360324b8a813"
      ]
     },
     "execution_count": 7,
     "metadata": {},
     "output_type": "execute_result"
    }
   ],
   "source": [
    "print(model_name)\n",
    "deployment_model"
   ]
  },
  {
   "cell_type": "code",
   "execution_count": null,
   "id": "2286c9db",
   "metadata": {},
   "outputs": [],
   "source": [
    "deployment_model"
   ]
  },
  {
   "cell_type": "code",
   "execution_count": 18,
   "id": "461182ba",
   "metadata": {},
   "outputs": [],
   "source": [
    "model = mlflow.pyfunc.load_model(\n",
    "    model_uri=f\"models:/Logistic_Regression_best_params/{1}\"\n",
    ")"
   ]
  },
  {
   "cell_type": "code",
   "execution_count": 20,
   "id": "f6740323",
   "metadata": {},
   "outputs": [
    {
     "name": "stderr",
     "output_type": "stream",
     "text": [
      "C:\\Users\\USER\\AppData\\Local\\Temp\\ipykernel_7504\\3453173231.py:1: FutureWarning: ``mlflow.tracking.client.MlflowClient.get_latest_versions`` is deprecated since 2.9.0. Model registry stages will be removed in a future major release. To learn more about the deprecation of model registry stages, see our migration guide here: https://mlflow.org/docs/2.12.1/model-registry.html#migrating-from-stages\n",
      "  model_metadata = client.get_latest_versions(model_name)\n"
     ]
    },
    {
     "data": {
      "text/plain": [
       "'4'"
      ]
     },
     "execution_count": 20,
     "metadata": {},
     "output_type": "execute_result"
    }
   ],
   "source": [
    "model_metadata = client.get_latest_versions(model_name)\n",
    "latest_model_version = model_metadata[0].version\n",
    "latest_model_version"
   ]
  },
  {
   "cell_type": "code",
   "execution_count": 41,
   "id": "b9d925df",
   "metadata": {},
   "outputs": [
    {
     "name": "stdout",
     "output_type": "stream",
     "text": [
      "2024-05-11\n"
     ]
    }
   ],
   "source": [
    "import datetime\n",
    "\n",
    "x = datetime.datetime.now().date()\n",
    "print(str(x))"
   ]
  },
  {
   "cell_type": "code",
   "execution_count": 31,
   "id": "7f1b38a3",
   "metadata": {},
   "outputs": [
    {
     "ename": "AttributeError",
     "evalue": "module 'os' has no attribute 'cwd'",
     "output_type": "error",
     "traceback": [
      "\u001b[1;31m---------------------------------------------------------------------------\u001b[0m",
      "\u001b[1;31mAttributeError\u001b[0m                            Traceback (most recent call last)",
      "Cell \u001b[1;32mIn[31], line 1\u001b[0m\n\u001b[1;32m----> 1\u001b[0m \u001b[43mos\u001b[49m\u001b[38;5;241;43m.\u001b[39;49m\u001b[43mcwd\u001b[49m()\n",
      "\u001b[1;31mAttributeError\u001b[0m: module 'os' has no attribute 'cwd'"
     ]
    }
   ],
   "source": [
    "os.cwd()"
   ]
  },
  {
   "cell_type": "code",
   "execution_count": 64,
   "id": "5f1bb3d1",
   "metadata": {},
   "outputs": [],
   "source": [
    "# This part is to handle the version of preprocessing model file \n",
    "\n",
    "\n",
    "# path\n",
    "path = '../production/PPreprocessing/'\n",
    "\n",
    "default_counter = 1\n",
    "date = datetime.datetime.now().date()\n",
    "\n",
    "# check list of file\n",
    "list_version = os.listdir(path + 'Archieved/')\n",
    "\n",
    "if len(list_version) == 0:\n",
    "    # make a new dir\n",
    "    #os.makedirs(path + f'{default_counter}. {date}', exist_ok=True)\n",
    "    shutil.move(path + 'Deployed', path + f'Archieved/{default_counter}. {date}')\n",
    "    \n",
    "else:\n",
    "    counter_version = [int(file.strip('.')[0]) for file in list_version] # get the latest version number\n",
    "    new_counter = max(counter_version) + 1\n",
    "    #os.makedirs(path + f'{new_counter}. {date}', exist_ok=True)\n",
    "    \n",
    "    \n",
    "    shutil.move(path + 'Deployed', path + f'Archieved/{new_counter}. {date}')\n",
    "    "
   ]
  },
  {
   "cell_type": "code",
   "execution_count": 3,
   "id": "9878660b",
   "metadata": {},
   "outputs": [
    {
     "name": "stdout",
     "output_type": "stream",
     "text": [
      "C:\\Users\\USER\\Desktop\\MLOPS NEW\\E2E Loan Application Classification\\E2E_Loan_Application\\experiment\n"
     ]
    }
   ],
   "source": [
    "from utils import common as cm"
   ]
  },
  {
   "cell_type": "code",
   "execution_count": 2,
   "id": "541bb620",
   "metadata": {},
   "outputs": [],
   "source": [
    "from utils import exception"
   ]
  },
  {
   "cell_type": "code",
   "execution_count": null,
   "id": "9d5c0a85",
   "metadata": {},
   "outputs": [],
   "source": [
    "sys.path.remove('c:\\\\users\\\\user\\\\desktop\\\\python project\\\\mlflow\\\\real loan application')"
   ]
  },
  {
   "cell_type": "code",
   "execution_count": 1,
   "id": "89388cfc",
   "metadata": {},
   "outputs": [
    {
     "data": {
      "text/plain": [
       "['C:\\\\ProgramData\\\\Anaconda3\\\\envs\\\\mlflowtest\\\\python38.zip',\n",
       " 'C:\\\\ProgramData\\\\Anaconda3\\\\envs\\\\mlflowtest\\\\DLLs',\n",
       " 'C:\\\\ProgramData\\\\Anaconda3\\\\envs\\\\mlflowtest\\\\lib',\n",
       " 'C:\\\\ProgramData\\\\Anaconda3\\\\envs\\\\mlflowtest',\n",
       " '',\n",
       " 'C:\\\\Users\\\\USER\\\\AppData\\\\Roaming\\\\Python\\\\Python38\\\\site-packages',\n",
       " 'C:\\\\ProgramData\\\\Anaconda3\\\\envs\\\\mlflowtest\\\\lib\\\\site-packages',\n",
       " 'c:\\\\users\\\\user\\\\desktop\\\\python project\\\\mlflow\\\\real loan application',\n",
       " 'c:\\\\users\\\\user\\\\desktop\\\\mlops new\\\\e2e loan application classification\\\\e2e_loan_application',\n",
       " 'C:\\\\ProgramData\\\\Anaconda3\\\\envs\\\\mlflowtest\\\\lib\\\\site-packages\\\\win32',\n",
       " 'C:\\\\ProgramData\\\\Anaconda3\\\\envs\\\\mlflowtest\\\\lib\\\\site-packages\\\\win32\\\\lib',\n",
       " 'C:\\\\ProgramData\\\\Anaconda3\\\\envs\\\\mlflowtest\\\\lib\\\\site-packages\\\\Pythonwin']"
      ]
     },
     "execution_count": 1,
     "metadata": {},
     "output_type": "execute_result"
    }
   ],
   "source": [
    "import sys\n",
    "sys.path"
   ]
  },
  {
   "cell_type": "code",
   "execution_count": 2,
   "id": "fac45507",
   "metadata": {},
   "outputs": [],
   "source": [
    "sys.path.remove('c:\\\\users\\\\user\\\\desktop\\\\python project\\\\mlflow\\\\real loan application')"
   ]
  },
  {
   "cell_type": "code",
   "execution_count": 7,
   "id": "42dd7d2d",
   "metadata": {},
   "outputs": [
    {
     "data": {
      "text/plain": [
       "['C:\\\\ProgramData\\\\Anaconda3\\\\envs\\\\mlflowtest\\\\python38.zip',\n",
       " 'C:\\\\ProgramData\\\\Anaconda3\\\\envs\\\\mlflowtest\\\\DLLs',\n",
       " 'C:\\\\ProgramData\\\\Anaconda3\\\\envs\\\\mlflowtest\\\\lib',\n",
       " 'C:\\\\ProgramData\\\\Anaconda3\\\\envs\\\\mlflowtest',\n",
       " '',\n",
       " 'C:\\\\Users\\\\USER\\\\AppData\\\\Roaming\\\\Python\\\\Python38\\\\site-packages',\n",
       " 'C:\\\\ProgramData\\\\Anaconda3\\\\envs\\\\mlflowtest\\\\lib\\\\site-packages',\n",
       " 'c:\\\\users\\\\user\\\\desktop\\\\mlops new\\\\e2e loan application classification\\\\e2e_loan_application',\n",
       " 'C:\\\\ProgramData\\\\Anaconda3\\\\envs\\\\mlflowtest\\\\lib\\\\site-packages\\\\win32',\n",
       " 'C:\\\\ProgramData\\\\Anaconda3\\\\envs\\\\mlflowtest\\\\lib\\\\site-packages\\\\win32\\\\lib',\n",
       " 'C:\\\\ProgramData\\\\Anaconda3\\\\envs\\\\mlflowtest\\\\lib\\\\site-packages\\\\Pythonwin']"
      ]
     },
     "execution_count": 7,
     "metadata": {},
     "output_type": "execute_result"
    }
   ],
   "source": [
    "sys.path"
   ]
  },
  {
   "cell_type": "code",
   "execution_count": 2,
   "id": "6611d258",
   "metadata": {},
   "outputs": [],
   "source": [
    "from utils import utils as ut"
   ]
  },
  {
   "cell_type": "code",
   "execution_count": 3,
   "id": "de07159d",
   "metadata": {},
   "outputs": [],
   "source": [
    "path = '../production/PPreprocessing/'\n",
    "\n",
    "ut.preprocessing_handle(path, path)"
   ]
  },
  {
   "cell_type": "code",
   "execution_count": 3,
   "id": "bccadda3",
   "metadata": {},
   "outputs": [],
   "source": [
    "from dsteps import data_ingestion as di\n",
    "from dsteps import data_transformation as dt"
   ]
  },
  {
   "cell_type": "code",
   "execution_count": 6,
   "id": "be78148c",
   "metadata": {},
   "outputs": [],
   "source": [
    "file_path = '../data/Loan_Data.csv'\n",
    "\n",
    "df = di.data_ingest(file_path)\n",
    "X_train, y_train, X_test, y_test = dt.cleaning_train_pipeline(df, production=False)"
   ]
  },
  {
   "cell_type": "code",
   "execution_count": null,
   "id": "6bfaa589",
   "metadata": {},
   "outputs": [],
   "source": []
  },
  {
   "cell_type": "code",
   "execution_count": 23,
   "id": "810aa9a3",
   "metadata": {},
   "outputs": [
    {
     "data": {
      "text/plain": [
       "'C:\\\\Users\\\\USER\\\\Desktop\\\\MLOPS NEW\\\\E2E Loan Application Classification\\\\E2E_Loan_Application\\\\experiment'"
      ]
     },
     "execution_count": 23,
     "metadata": {},
     "output_type": "execute_result"
    }
   ],
   "source": [
    "import os\n",
    "\n",
    "os.getcwd()"
   ]
  },
  {
   "cell_type": "code",
   "execution_count": null,
   "id": "e72677a6",
   "metadata": {},
   "outputs": [],
   "source": []
  }
 ],
 "metadata": {
  "kernelspec": {
   "display_name": "mlflowtest",
   "language": "python",
   "name": "mlflowtest"
  },
  "language_info": {
   "codemirror_mode": {
    "name": "ipython",
    "version": 3
   },
   "file_extension": ".py",
   "mimetype": "text/x-python",
   "name": "python",
   "nbconvert_exporter": "python",
   "pygments_lexer": "ipython3",
   "version": "3.8.18"
  }
 },
 "nbformat": 4,
 "nbformat_minor": 5
}
